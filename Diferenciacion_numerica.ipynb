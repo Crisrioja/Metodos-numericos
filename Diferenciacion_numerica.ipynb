{
  "nbformat": 4,
  "nbformat_minor": 0,
  "metadata": {
    "colab": {
      "provenance": [],
      "authorship_tag": "ABX9TyOhnV7eA2lnX+Qvg9Ar4zg5",
      "include_colab_link": true
    },
    "kernelspec": {
      "name": "python3",
      "display_name": "Python 3"
    },
    "language_info": {
      "name": "python"
    }
  },
  "cells": [
    {
      "cell_type": "markdown",
      "metadata": {
        "id": "view-in-github",
        "colab_type": "text"
      },
      "source": [
        "<a href=\"https://colab.research.google.com/github/Crisrioja/Metodos-numericos/blob/main/Diferenciacion_numerica.ipynb\" target=\"_parent\"><img src=\"https://colab.research.google.com/assets/colab-badge.svg\" alt=\"Open In Colab\"/></a>"
      ]
    },
    {
      "cell_type": "code",
      "execution_count": 13,
      "metadata": {
        "colab": {
          "base_uri": "https://localhost:8080/"
        },
        "id": "aG-sUgM2-Ulr",
        "outputId": "f2e56d80-c380-41ff-bee1-1b4280ee8510"
      },
      "outputs": [
        {
          "output_type": "stream",
          "name": "stdout",
          "text": [
            "x values: [1.8, 1.9, 2.0, 2.1, 2.2]\n",
            "f(x) values: [10.8893654359433, 12.7031994403306, 14.7781121978613, 17.1489568163921, 19.8550296987551]\n",
            "\n",
            "Valor exacto de f'(2.0): 22.1671682968\n",
            "\n",
            "[Punto medio] Aproximación de f'(2.0) con 3 puntos: 22.2287868803\n",
            "Error absoluto (3 ptos): 0.0616185835\n",
            "\n",
            "[Punto medio] Aproximación de f'(2.0) con 5 puntos: 22.1669956214\n",
            "Error absoluto (5 ptos): 0.0001726754\n",
            "\n",
            "[Extremo] Aproximación de f'(1.8) con 3 puntos: 16.8329462782\n",
            "Error absoluto (3 ptos): 0.1060666222\n",
            "\n",
            "[Extremo] Aproximación de f'(1.8) con 5 puntos: 16.9380150669\n",
            "Error absoluto (5 ptos): 0.0009978334\n"
          ]
        }
      ],
      "source": [
        "import sympy as sp\n",
        "\n",
        "# Definir variable y función\n",
        "x = sp.Symbol('x')\n",
        "f = x * sp.exp(x)\n",
        "\n",
        "# Valores de x y f(x)\n",
        "valoresx = [1.8, 1.9, 2.0, 2.1, 2.2]\n",
        "valoresfx = [f.subs(x, val) for val in valoresx]\n",
        "\n",
        "# Mostrar valores\n",
        "print(\"x values:\", valoresx)\n",
        "print(\"f(x) values:\", valoresfx)\n",
        "\n",
        "# Paso h\n",
        "h = 0.1\n",
        "\n",
        "# --- VALOR EXACTO ---\n",
        "valorreal1 = sp.diff(f, x).subs(x, 2.0)\n",
        "print(f\"\\nValor exacto de f'(2.0): {valorreal1:.10f}\")\n",
        "\n",
        "# --- Punto medio (centradas en 2.0) ---\n",
        "puntomedio3p = (1 / (2 * h)) * (valoresfx[3] - valoresfx[1])\n",
        "puntomedio5p = (1 / (12 * h)) * (-valoresfx[4] + 8 * valoresfx[3] - 8 * valoresfx[1] + valoresfx[0])\n",
        "\n",
        "errormedio3p = abs(puntomedio3p - valorreal1)\n",
        "errormedio5p = abs(puntomedio5p - valorreal1)\n",
        "\n",
        "print(f\"\\n[Punto medio] Aproximación de f'(2.0) con 3 puntos: {puntomedio3p:.10f}\")\n",
        "print(f\"Error absoluto (3 ptos): {errormedio3p:.10f}\")\n",
        "\n",
        "print(f\"\\n[Punto medio] Aproximación de f'(2.0) con 5 puntos: {puntomedio5p:.10f}\")\n",
        "print(f\"Error absoluto (5 ptos): {errormedio5p:.10f}\")\n",
        "\n",
        "# --- EXTREMO IZQUIERDO (en x = 1.8) ---\n",
        "extremo3p = (-3 * valoresfx[0] + 4 * valoresfx[1] - valoresfx[2]) / (2 * h)\n",
        "extremo5p = (-25 * valoresfx[0] + 48 * valoresfx[1] - 36 * valoresfx[2] + 16 * valoresfx[3] - 3 * valoresfx[4]) / (12 * h)\n",
        "\n",
        "# Derivada exacta en 1.8 para error\n",
        "valorrealextremo = sp.diff(f, x).subs(x, 1.8)\n",
        "errorextremo3p = abs(extremo3p - valorrealextremo)\n",
        "errorextremo5p = abs(extremo5p - valorrealextremo)\n",
        "\n",
        "print(f\"\\n[Extremo] Aproximación de f'(1.8) con 3 puntos: {extremo3p:.10f}\")\n",
        "print(f\"Error absoluto (3 ptos): {errorextremo3p:.10f}\")\n",
        "\n",
        "print(f\"\\n[Extremo] Aproximación de f'(1.8) con 5 puntos: {extremo5p:.10f}\")\n",
        "print(f\"Error absoluto (5 ptos): {errorextremo5p:.10f}\")\n"
      ]
    }
  ]
}