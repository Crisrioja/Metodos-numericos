{
  "nbformat": 4,
  "nbformat_minor": 0,
  "metadata": {
    "colab": {
      "provenance": [],
      "authorship_tag": "ABX9TyPLpxXy5N11xJK5MIyphGIw",
      "include_colab_link": true
    },
    "kernelspec": {
      "name": "python3",
      "display_name": "Python 3"
    },
    "language_info": {
      "name": "python"
    }
  },
  "cells": [
    {
      "cell_type": "markdown",
      "metadata": {
        "id": "view-in-github",
        "colab_type": "text"
      },
      "source": [
        "<a href=\"https://colab.research.google.com/github/Crisrioja/Metodos-numericos/blob/main/MetodoEuler.ipynb\" target=\"_parent\"><img src=\"https://colab.research.google.com/assets/colab-badge.svg\" alt=\"Open In Colab\"/></a>"
      ]
    },
    {
      "cell_type": "markdown",
      "source": [
        "# <font color=blue>Metodo de Euler</font>"
      ],
      "metadata": {
        "id": "mujabDdae6Jm"
      }
    },
    {
      "cell_type": "markdown",
      "source": [
        "\n",
        "Método de Euler para la Solución de EDOs\n",
        "\n",
        "\n",
        "\n",
        "\n",
        "1. Descripción del Método de Euler\n",
        "\n",
        "El método de Euler es una técnica numérica para aproximar la solución de un problema de valor inicial (PVI) de la forma:\n",
        "\n",
        "\n",
        "\n",
        "$y' = f(t, y), \\quad a \\leq t \\leq b, \\quad y(a) = \\alpha$\n",
        "\n",
        "\n",
        "Dividimos el intervalo $[a, b]$ en $N$ subintervalos igualmente espaciados, con paso:\n",
        "\n",
        "\n",
        "$h = \\frac{b - a}{N}$\n",
        "\n",
        "\n",
        "Los valores aproximados $w_i \\approx y(t_i)$ se calculan iterativamente usando:\n",
        "\n",
        "\n",
        "$w_{i+1} = w_i + h \\cdot f(t_i, w_i), \\quad \\text{con } t_i = a + i \\cdot h$\n",
        "\n",
        "2. Error absoluto\n",
        "\n",
        "El error absoluto en cada paso es:\n",
        "\n",
        "\n",
        "$\\left| y(t_i) - w_i \\right|$\n",
        "\n",
        "\n",
        "3. Tabla de resultados:\n",
        "\n",
        "\n"
      ],
      "metadata": {
        "id": "5rmb5Tj6V7aH"
      }
    },
    {
      "cell_type": "code",
      "execution_count": 1,
      "metadata": {
        "colab": {
          "base_uri": "https://localhost:8080/"
        },
        "id": "mHcWhmTRFJ6f",
        "outputId": "14055b2d-f544-4db3-c9b5-f9afbadc21eb"
      },
      "outputs": [
        {
          "output_type": "stream",
          "name": "stdout",
          "text": [
            "  t_i          w_i       y(t_i)      |y - w|\n",
            "---------------------------------------------\n",
            "  0.0    0.5000000    0.5000000    0.0000000\n",
            "  0.2    0.8000000    0.8292986    0.0292986\n",
            "  0.4    1.1520000    1.2140877    0.0620877\n",
            "  0.6    1.5504000    1.6489406    0.0985406\n",
            "  0.8    1.9884800    2.1272295    0.1387495\n",
            "  1.0    2.4581760    2.6408591    0.1826831\n",
            "  1.2    2.9498112    3.1799415    0.2301303\n",
            "  1.4    3.4517734    3.7324000    0.2806266\n",
            "  1.6    3.9501281    4.2834838    0.3333557\n",
            "  1.8    4.4281538    4.8151763    0.3870225\n",
            "  2.0    4.8657845    5.3054720    0.4396874\n"
          ]
        }
      ],
      "source": [
        "import numpy as np\n",
        "import math\n",
        "\n",
        "# Definición del problema\n",
        "def f(t, y):\n",
        "    return y - t**2 + 1\n",
        "\n",
        "def y_exacta(t):\n",
        "    return (t + 1)**2 - 0.5 * math.exp(t)\n",
        "\n",
        "# Parámetros del método de Euler\n",
        "a = 0         # límite inferior\n",
        "b = 2         # límite superior\n",
        "alpha = 0.5   # condición inicial y(a)\n",
        "N = 10        # número de subintervalos\n",
        "h = (b - a) / N\n",
        "\n",
        "# Inicialización de variables\n",
        "t = a\n",
        "w = alpha\n",
        "\n",
        "# Encabezado de la tabla\n",
        "print(f\"{'t_i':>5} {'w_i':>12} {'y(t_i)':>12} {'|y - w|':>12}\")\n",
        "print(\"-\" * 45)\n",
        "\n",
        "# Imprime primer valor\n",
        "y_real = y_exacta(t)\n",
        "error = abs(y_real - w)\n",
        "print(f\"{t:>5.1f} {w:12.7f} {y_real:12.7f} {error:12.7f}\")\n",
        "\n",
        "# Iteraciones del método de Euler\n",
        "for i in range(1, N + 1):\n",
        "    w = w + h * f(t, w)\n",
        "    t = a + i * h\n",
        "    y_real = y_exacta(t)\n",
        "    error = abs(y_real - w)\n",
        "    print(f\"{t:>5.1f} {w:12.7f} {y_real:12.7f} {error:12.7f}\")\n"
      ]
    }
  ]
}