{
  "nbformat": 4,
  "nbformat_minor": 0,
  "metadata": {
    "colab": {
      "provenance": [],
      "authorship_tag": "ABX9TyNtBDe0kSYXLriGfgUFss76",
      "include_colab_link": true
    },
    "kernelspec": {
      "name": "python3",
      "display_name": "Python 3"
    },
    "language_info": {
      "name": "python"
    }
  },
  "cells": [
    {
      "cell_type": "markdown",
      "metadata": {
        "id": "view-in-github",
        "colab_type": "text"
      },
      "source": [
        "<a href=\"https://colab.research.google.com/github/Crisrioja/Metodos-numericos/blob/main/Integracionnumerica.ipynb\" target=\"_parent\"><img src=\"https://colab.research.google.com/assets/colab-badge.svg\" alt=\"Open In Colab\"/></a>"
      ]
    },
    {
      "cell_type": "markdown",
      "source": [
        "# <font color=blue>Integracion Numerica</font>"
      ],
      "metadata": {
        "id": "tQ-ovYQUP7EH"
      }
    },
    {
      "cell_type": "markdown",
      "source": [
        "Fórmulas Cerradas de Newton-Cotes\n",
        "\n",
        "Regla del Trapecio (n = 1)\n",
        "\n",
        "$\\int_a^b f(x)\\,dx \\approx \\frac{h}{2} \\left[ f(a) + f(b) \\right]$\n",
        "\n",
        "donde $( h = b - a )$.\n",
        "\n",
        "Regla de Simpson (n = 2)\n",
        "\n",
        "$\\int_a^b f(x)\\,dx \\approx \\frac{h}{6} \\left[ f(a) + 4f\\left(\\frac{a+b}{2}\\right) + f(b) \\right]$\n",
        "\n",
        "\n",
        "Regla de Simpson 3/8 (n = 3)\n",
        "\n",
        "$\\int_a^b f(x)\\,dx \\approx \\frac{3h}{8} \\left[ f(a) + 3f(a+h) + 3f(a+2h) + f(b) \\right]$\n",
        "\n",
        "donde $( h = \\frac{b - a}{3} )$.\n",
        "\n",
        "Newton-Cotes Cerrada para n = 4\n",
        "\n",
        "$\\int_a^b f(x)\\,dx \\approx \\frac{2h}{45} \\left[ 7f(x_0) + 32f(x_1) + 12f(x_2) + 32f(x_3) + 7f(x_4) \\right]$\n",
        "\n",
        "donde $( h = \\frac{b - a}{4} )$, y los puntos $( x_i = a + i h )$ para $( i = 0, \\dots, 4 ).$\n",
        "\n",
        "Fórmulas Abiertas de Newton-Cotes\n",
        "\n",
        "{n = 0}\n",
        "\n",
        "$\\int_a^b f(x)\\,dx \\approx h \\cdot f\\left(a + \\frac{h}{2}\\right)$\n",
        "\n",
        "{n = 1}\n",
        "\n",
        "$\\int_a^b f(x)\\,dx \\approx \\frac{h}{2} \\left[ 3f\\left(a + \\frac{h}{3}\\right) + f\\left(a + \\frac{2h}{3}\\right) \\right]$\n",
        "\n",
        "\n",
        "{n = 2}\n",
        "\n",
        "$\\int_a^b f(x)\\,dx \\approx \\frac{h}{24} \\left[ 23f\\left(x_1\\right) + 28f\\left(x_2\\right) - 9f\\left(x_3\\right) \\right]$\n",
        "\n",
        "donde $( x_1 = a + \\frac{h}{4}, \\quad x_2 = a + \\frac{h}{2}, \\quad x_3 = a + \\frac{3h}{4} )$.\n",
        "\n",
        "{n = 3}\n",
        "\n",
        "$\\int_a^b f(x)\\,dx \\approx \\frac{h}{24} \\left[ 55f(x_1) - 59f(x_2) + 37f(x_3) - 9f(x_4) \\right]$\n",
        "\n",
        "donde los nodos son equiespaciados entre ( a ) y ( b ), con paso $( \\frac{h}{5}$ \\)$.\n",
        "\n",
        "\n"
      ],
      "metadata": {
        "id": "fC3JSQzcQHW_"
      }
    },
    {
      "cell_type": "code",
      "execution_count": 17,
      "metadata": {
        "colab": {
          "base_uri": "https://localhost:8080/"
        },
        "id": "vgv9YpGY_6PC",
        "outputId": "bfa0f7e0-622d-4964-8d53-a494fd0bae34"
      },
      "outputs": [
        {
          "output_type": "stream",
          "name": "stdout",
          "text": [
            "Valor real de la integral de 0 a pi/4 de sin(x) dx = 0.29289322\n",
            "Trapecio:         0.27768018   | Error: 0.01521304\n",
            "Simpson:          0.29293264   | Error: 0.00003942\n",
            "Simpson 3/8:      0.87873211   | Error: 0.58583889\n",
            "NC cerrada n=4:   0.14644659   | Error: 0.14644663\n",
            "NC abierta n=0:   0.30055886   | Error: 0.00766565\n",
            "NC abierta n=1:   0.50126354   | Error: 0.20837033\n",
            "NC abierta n=2:   0.33386233   | Error: 0.04096911\n",
            "NC abierta n=3:   0.06150565   | Error: 0.23138757\n"
          ]
        }
      ],
      "source": [
        "import sympy as sp\n",
        "import numpy as np\n",
        "\n",
        "# Definir símbolo y función\n",
        "x = sp.Symbol('x')\n",
        "f = sp.sin(x)\n",
        "\n",
        "# Intervalo de integración\n",
        "a, b = 0, sp.pi / 4\n",
        "valor_a, valor_b = float(a), float(b)\n",
        "h = valor_b - valor_a\n",
        "\n",
        "# Valor real de la integral\n",
        "real_integral = float(sp.integrate(f, (x, a, b)))\n",
        "\n",
        "# Generar función evaluable\n",
        "f_lambdified = sp.lambdify(x, f, \"numpy\")\n",
        "\n",
        "# Newton-Cotes cerradas\n",
        "# Regla del trapecio (n = 1)\n",
        "trapecio = (h / 2) * (f_lambdified(valor_a) + f_lambdified(valor_b))\n",
        "\n",
        "# Regla de Simpson (n = 2)\n",
        "mid = (valor_a + valor_b) / 2\n",
        "simpson = (h / 6) * (f_lambdified(valor_a) + 4 * f_lambdified(mid) + f_lambdified(valor_b))\n",
        "\n",
        "# Regla de Simpson 3/8 (n = 3)\n",
        "h3 = h / 3\n",
        "simpson_38 = (3 * h / 8) * (\n",
        "    f_lambdified(valor_a) +\n",
        "    3 * f_lambdified(valor_a + h3) +\n",
        "    3 * f_lambdified(valor_a + 2 * h3) +\n",
        "    f_lambdified(valor_b)\n",
        ")\n",
        "\n",
        "# Newton-Cotes cerrada de grado 4 (n = 4)\n",
        "n4 = 4\n",
        "x_nc4 = np.linspace(valor_a, valor_b, n4 + 1)\n",
        "w_nc4 = [7, 32, 12, 32, 7]  # Coeficientes de Newton-Cotes cerrada de grado 4\n",
        "h_nc4 = (valor_b - valor_a) / n4\n",
        "nc4 = (h_nc4 / 45) * sum(w * f_lambdified(xi) for w, xi in zip(w_nc4, x_nc4))\n",
        "\n",
        "# Newton-Cotes abiertas\n",
        "def newton_cotes_abierta(n, a, h):\n",
        "    weights = {\n",
        "        0: ([1], 1),\n",
        "        1: ([3, 1], 2),\n",
        "        2: ([23, 28, -9], 24),\n",
        "        3: ([55, -59, 37, -9], 24)\n",
        "    }\n",
        "    w, k = weights[n]\n",
        "    h_step = h / (n + 2)\n",
        "    nodes = [a + (i + 1) * h_step for i in range(n + 1)]\n",
        "    return (h * sum(wi * f_lambdified(xi) for wi, xi in zip(w, nodes))) / k\n",
        "\n",
        "nc_abierta_0 = newton_cotes_abierta(0, valor_a, h)\n",
        "nc_abierta_1 = newton_cotes_abierta(1, valor_a, h)\n",
        "nc_abierta_2 = newton_cotes_abierta(2, valor_a, h)\n",
        "nc_abierta_3 = newton_cotes_abierta(3, valor_a, h)\n",
        "\n",
        "# Imprimir resultados con errores absolutos\n",
        "print(f\"Valor real de la integral de 0 a {sp.pi/4} de sin(x) dx = {real_integral:.8f}\")\n",
        "print(f\"Trapecio:         {trapecio:.8f}   | Error: {abs(trapecio - real_integral):.8f}\")\n",
        "print(f\"Simpson:          {simpson:.8f}   | Error: {abs(simpson - real_integral):.8f}\")\n",
        "print(f\"Simpson 3/8:      {simpson_38:.8f}   | Error: {abs(simpson_38 - real_integral):.8f}\")\n",
        "print(f\"NC cerrada n=4:   {nc4:.8f}   | Error: {abs(nc4 - real_integral):.8f}\")\n",
        "print(f\"NC abierta n=0:   {nc_abierta_0:.8f}   | Error: {abs(nc_abierta_0 - real_integral):.8f}\")\n",
        "print(f\"NC abierta n=1:   {nc_abierta_1:.8f}   | Error: {abs(nc_abierta_1 - real_integral):.8f}\")\n",
        "print(f\"NC abierta n=2:   {nc_abierta_2:.8f}   | Error: {abs(nc_abierta_2 - real_integral):.8f}\")\n",
        "print(f\"NC abierta n=3:   {nc_abierta_3:.8f}   | Error: {abs(nc_abierta_3 - real_integral):.8f}\")\n"
      ]
    }
  ]
}