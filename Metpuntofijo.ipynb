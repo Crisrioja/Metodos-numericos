{
  "nbformat": 4,
  "nbformat_minor": 0,
  "metadata": {
    "colab": {
      "provenance": [],
      "authorship_tag": "ABX9TyPUyiWUbnl8dnZoi0YB9309",
      "include_colab_link": true
    },
    "kernelspec": {
      "name": "python3",
      "display_name": "Python 3"
    },
    "language_info": {
      "name": "python"
    }
  },
  "cells": [
    {
      "cell_type": "markdown",
      "metadata": {
        "id": "view-in-github",
        "colab_type": "text"
      },
      "source": [
        "<a href=\"https://colab.research.google.com/github/Crisrioja/Metodos-numericos/blob/main/Metpuntofijo.ipynb\" target=\"_parent\"><img src=\"https://colab.research.google.com/assets/colab-badge.svg\" alt=\"Open In Colab\"/></a>"
      ]
    },
    {
      "cell_type": "markdown",
      "source": [
        "# <font color=blue>Metodo del Punto Fijo</font>"
      ],
      "metadata": {
        "id": "rYXHZ4pykHe6"
      }
    },
    {
      "cell_type": "markdown",
      "source": [
        "Método de Iteración de Punto Fijo en Python\n",
        "Este programa implementa el método de iteración de punto fijo para aproximar la solución de la ecuación $ x = g(x) $.  \n",
        "La función utilizada es:  \n",
        "\n",
        "\\[\n",
        "$g(x) = \\sqrt{\\frac{10}{4 + x}}$\n",
        "\\]\n",
        "\n",
        "Se itera usando la fórmula:  \n",
        "\n",
        "\\[\n",
        "$x_{n+1} = g(x_n)$\n",
        "\\]\n",
        "\n",
        "hasta completar 15 iteraciones. La salida se muestra en una tabla con 9 decimales de precisión.\n"
      ],
      "metadata": {
        "id": "0wFWNsSDlqqD"
      }
    },
    {
      "cell_type": "code",
      "execution_count": 5,
      "metadata": {
        "colab": {
          "base_uri": "https://localhost:8080/"
        },
        "id": "TxcwlzSWhMIt",
        "outputId": "9c06a391-206c-4cd2-9359-ea1bceb74245"
      },
      "outputs": [
        {
          "output_type": "stream",
          "name": "stdout",
          "text": [
            "+-------------+---------+---------+-------------+\n",
            "|   Iteración |     p_n |   p_n+1 |       Error |\n",
            "+=============+=========+=========+=============+\n",
            "|           1 | 1.5     | 1.3484  | 0.1516      |\n",
            "+-------------+---------+---------+-------------+\n",
            "|           2 | 1.3484  | 1.36738 | 0.0189766   |\n",
            "+-------------+---------+---------+-------------+\n",
            "|           3 | 1.36738 | 1.36496 | 0.00241936  |\n",
            "+-------------+---------+---------+-------------+\n",
            "|           4 | 1.36496 | 1.36526 | 0.000307733 |\n",
            "+-------------+---------+---------+-------------+\n",
            "|           5 | 1.36526 | 1.36523 | 3.9154e-05  |\n",
            "+-------------+---------+---------+-------------+\n",
            "|           6 | 1.36523 | 1.36523 | 4.98151e-06 |\n",
            "+-------------+---------+---------+-------------+\n",
            "|           7 | 1.36523 | 1.36523 | 6.33795e-07 |\n",
            "+-------------+---------+---------+-------------+\n",
            "|           8 | 1.36523 | 1.36523 | 8.06374e-08 |\n",
            "+-------------+---------+---------+-------------+\n",
            "|           9 | 1.36523 | 1.36523 | 1.02594e-08 |\n",
            "+-------------+---------+---------+-------------+\n",
            "|          10 | 1.36523 | 1.36523 | 1.3053e-09  |\n",
            "+-------------+---------+---------+-------------+\n",
            "|          11 | 1.36523 | 1.36523 | 1.66073e-10 |\n",
            "+-------------+---------+---------+-------------+\n",
            "|          12 | 1.36523 | 1.36523 | 2.11293e-11 |\n",
            "+-------------+---------+---------+-------------+\n",
            "|          13 | 1.36523 | 1.36523 | 2.68829e-12 |\n",
            "+-------------+---------+---------+-------------+\n",
            "|          14 | 1.36523 | 1.36523 | 3.42171e-13 |\n",
            "+-------------+---------+---------+-------------+\n",
            "|          15 | 1.36523 | 1.36523 | 4.37428e-14 |\n",
            "+-------------+---------+---------+-------------+\n",
            "\n",
            "Aproximación final después de 15 iteraciones: 1.365230013\n"
          ]
        }
      ],
      "source": [
        "import numpy as np\n",
        "from tabulate import tabulate\n",
        "\n",
        "# Definir la función g(x)\n",
        "def g(x):\n",
        "    return (10 / (4 + x)) ** 0.5\n",
        "\n",
        "# Método de iteración de punto fijo con 15 iteraciones como en el libro para corroborar que llegamos al mismo resultado\n",
        "def punto_fijo(g, p0, num_iter=15):\n",
        "    iter_data = []\n",
        "\n",
        "    for i in range(1, num_iter + 1):\n",
        "        p = g(p0)  # Aplicamos la función g(x)\n",
        "        error = abs(p - p0)  # Error absoluto\n",
        "\n",
        "        # Guardamos la información en la tabla\n",
        "        iter_data.append([i, p0, p, error])\n",
        "\n",
        "        p0 = p  # Actualizamos p0\n",
        "\n",
        "    # Imprimir tabla de iteraciones\n",
        "    print(tabulate(iter_data, headers=[\"Iteración\", \"p_n\", \"p_n+1\", \"Error\"], tablefmt=\"grid\"))\n",
        "    print(f\"\\nAproximación final después de {num_iter} iteraciones: {p:.9f}\")\n",
        "\n",
        "# Parámetro inicial\n",
        "p0 = 1.5  # Valor inicial\n",
        "\n",
        "# Ejecutar el método con 15 iteraciones\n",
        "punto_fijo(g, p0, num_iter=15)\n"
      ]
    }
  ]
}