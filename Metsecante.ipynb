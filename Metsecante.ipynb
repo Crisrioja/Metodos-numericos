{
  "nbformat": 4,
  "nbformat_minor": 0,
  "metadata": {
    "colab": {
      "provenance": [],
      "authorship_tag": "ABX9TyMczKJ8Qa55/xHoZjm1e2s6",
      "include_colab_link": true
    },
    "kernelspec": {
      "name": "python3",
      "display_name": "Python 3"
    },
    "language_info": {
      "name": "python"
    }
  },
  "cells": [
    {
      "cell_type": "markdown",
      "metadata": {
        "id": "view-in-github",
        "colab_type": "text"
      },
      "source": [
        "<a href=\"https://colab.research.google.com/github/Crisrioja/Metodos-numericos/blob/main/Metsecante.ipynb\" target=\"_parent\"><img src=\"https://colab.research.google.com/assets/colab-badge.svg\" alt=\"Open In Colab\"/></a>"
      ]
    },
    {
      "cell_type": "markdown",
      "source": [
        "# <font color=blue>Metodo de la Secante</font>"
      ],
      "metadata": {
        "id": "lRQb7N8eoh4h"
      }
    },
    {
      "cell_type": "markdown",
      "source": [
        "<big><font>Este metodo se basa en la iteracion:  </font>\n",
        "$p_n = p_{n-1} - f(p_{n-1}) (p_{n-1} - p_{n-2})/f(p_{n-1}) - f(p_{n-2})$"
      ],
      "metadata": {
        "id": "4OeoUtLFowmJ"
      }
    },
    {
      "cell_type": "markdown",
      "source": [
        "Usaremos la funcion $f(x) = cos(x) -x$  como ejemplo"
      ],
      "metadata": {
        "id": "QeeosIBVqTVS"
      }
    },
    {
      "cell_type": "code",
      "execution_count": 3,
      "metadata": {
        "id": "Z6oeMfjvnNMk"
      },
      "outputs": [],
      "source": [
        "import numpy as np\n",
        "from tabulate import tabulate\n"
      ]
    },
    {
      "cell_type": "markdown",
      "source": [
        "Definimos la funcion $f(x) = cos(x) - x$"
      ],
      "metadata": {
        "id": "n1VWZtnrv5MK"
      }
    },
    {
      "cell_type": "code",
      "source": [
        "def f(x):\n",
        "  return np.cos(x) - x"
      ],
      "metadata": {
        "id": "DuRlT89nvoSz"
      },
      "execution_count": 4,
      "outputs": []
    },
    {
      "cell_type": "markdown",
      "source": [
        "<big>Definimos nuestro metodo de la secante"
      ],
      "metadata": {
        "id": "HYm_91U2v8qK"
      }
    },
    {
      "cell_type": "code",
      "source": [
        "def secante(f, p0, p1, tol=1e-5, max_iter=10):\n",
        "    iter_datos = []\n",
        "\n",
        "    for i in range(1, max_iter + 1):\n",
        "        if abs(f(p1) - f(p0)) < 1e-10:  # evitamos la división por cero\n",
        "            print(\"División entre cero, se detiene el método de la secante\")\n",
        "            return None\n",
        "\n",
        "        p = p1 - f(p1) * (p1 - p0) / (f(p1) - f(p0))  # Fórmula del método de la secante\n",
        "        error = abs(p - p1)  # Calcula el error absoluto\n",
        "\n",
        "        iter_datos.append([i, p0, p1, p, error])  # Guarda los datos de la iteración\n",
        "\n",
        "        if error < tol:  # Criterio de convergencia\n",
        "            break\n",
        "\n",
        "        p0, p1 = p1, p  # Se actualizan los valores\n",
        "\n",
        "    print(tabulate(iter_datos, headers=[\"Iteración\", \"p_n-2\", \"p_n-1\", \"p_n\", \"Error\"], tablefmt=\"grid\"))\n",
        "    print(f\"\\nAproximación final: {p:f} con una tolerancia de {tol}\")"
      ],
      "metadata": {
        "id": "ZAvQNRwJvuvK"
      },
      "execution_count": 9,
      "outputs": []
    },
    {
      "cell_type": "code",
      "source": [
        "#Parametros iniciales\n",
        "p0,p1 = 0.0,1.0   #Puntos iniciales\n",
        "tol= 1e-5   #Tolerancia\n",
        "#Ejecutamos el metodo de la secante\n",
        "secante(f,p0,p1,tol)"
      ],
      "metadata": {
        "colab": {
          "base_uri": "https://localhost:8080/"
        },
        "id": "r__9mrbOvzAi",
        "outputId": "d1bdc3ac-87f0-4737-c46e-147af472253c"
      },
      "execution_count": 10,
      "outputs": [
        {
          "output_type": "stream",
          "name": "stdout",
          "text": [
            "+-------------+----------+----------+----------+-------------+\n",
            "|   Iteración |    p_n-2 |    p_n-1 |      p_n |       Error |\n",
            "+=============+==========+==========+==========+=============+\n",
            "|           1 | 0        | 1        | 0.685073 | 0.314927    |\n",
            "+-------------+----------+----------+----------+-------------+\n",
            "|           2 | 1        | 0.685073 | 0.736299 | 0.0512256   |\n",
            "+-------------+----------+----------+----------+-------------+\n",
            "|           3 | 0.685073 | 0.736299 | 0.739119 | 0.00282036  |\n",
            "+-------------+----------+----------+----------+-------------+\n",
            "|           4 | 0.736299 | 0.739119 | 0.739085 | 3.42498e-05 |\n",
            "+-------------+----------+----------+----------+-------------+\n",
            "|           5 | 0.739119 | 0.739085 | 0.739085 | 2.10875e-08 |\n",
            "+-------------+----------+----------+----------+-------------+\n",
            "\n",
            "Aproximación final: 0.739085 con una tolerancia de 1e-05\n"
          ]
        }
      ]
    }
  ]
}