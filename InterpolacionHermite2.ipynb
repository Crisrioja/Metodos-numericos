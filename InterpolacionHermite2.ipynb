{
  "nbformat": 4,
  "nbformat_minor": 0,
  "metadata": {
    "colab": {
      "provenance": [],
      "authorship_tag": "ABX9TyPpUmWnREY/+SPn9V9rPnyl",
      "include_colab_link": true
    },
    "kernelspec": {
      "name": "python3",
      "display_name": "Python 3"
    },
    "language_info": {
      "name": "python"
    }
  },
  "cells": [
    {
      "cell_type": "markdown",
      "metadata": {
        "id": "view-in-github",
        "colab_type": "text"
      },
      "source": [
        "<a href=\"https://colab.research.google.com/github/Crisrioja/Metodos-numericos/blob/main/InterpolacionHermite2.ipynb\" target=\"_parent\"><img src=\"https://colab.research.google.com/assets/colab-badge.svg\" alt=\"Open In Colab\"/></a>"
      ]
    },
    {
      "cell_type": "markdown",
      "source": [
        "# <font color=blue>Metodo de Interpolacion para el Polinomio de Hermite"
      ],
      "metadata": {
        "id": "6QZIiK6kqmjw"
      }
    },
    {
      "cell_type": "markdown",
      "source": [
        "El metodo consiste en lo siguieente:\n",
        "\n",
        "De manera muy similar al metodo de diferencias divididas, este metodo usa la formula:\n",
        "\n",
        "$H_{2n+1}(x)= f[z_0] + \\sum_{k=1}^{2n+1}f[z_0,...,z_k](x-z_0)(x-z_1)...(x-z_{k-1})$\n",
        "\n",
        "para calcular el polinomio de Hermite.\n",
        "El método utiliza la conexión entre la enésima diferencia dividida y la enésima derivada de f"
      ],
      "metadata": {
        "id": "AIZbn41cqtsn"
      }
    },
    {
      "cell_type": "markdown",
      "source": [
        "Importamos librerias"
      ],
      "metadata": {
        "id": "OVHpMT_ks6B1"
      }
    },
    {
      "cell_type": "code",
      "execution_count": null,
      "metadata": {
        "id": "EKo5cYK8xsn8"
      },
      "outputs": [],
      "source": [
        "import sympy as sp\n",
        "import numpy as np\n",
        "from tabulate import tabulate"
      ]
    },
    {
      "cell_type": "markdown",
      "source": [
        "Declaramos valores que vamos a usar como ejemplo"
      ],
      "metadata": {
        "id": "HGiGVLies81A"
      }
    },
    {
      "cell_type": "code",
      "source": [
        "x_valores = [1.3,1.6,1.9]\n",
        "f_valores = [0.6200860,0.4554022,0.2818186]\n",
        "f_derivada = [-0.5220232,-0.5698959,-0.5811571]\n"
      ],
      "metadata": {
        "id": "MSJpgBeV0bbZ"
      },
      "execution_count": null,
      "outputs": []
    },
    {
      "cell_type": "markdown",
      "source": [
        "Creamos nuestra funcion para interpolar por el metodo del Polinomio de Hermite siguiedo la formula descrita al inicio"
      ],
      "metadata": {
        "id": "ySMSBdrdtBDa"
      }
    },
    {
      "cell_type": "code",
      "source": [
        "def interpolacion_hermite(x_valores,f_valores,f_derivada):\n",
        "  n = len(x_valores)\n",
        "  z = np.zeros(2 * n)\n",
        "  Q = np.zeros((2 * n, 2 * n))\n",
        "  for i in range(n):\n",
        "    z[2*i] = z[2*i+1] = x_valores[i]\n",
        "    Q[2*i][0] = Q[2*i+1][0] = f_valores[i]\n",
        "    Q[2*i+1][1] = f_derivada[i]\n",
        "    if i != 0:\n",
        "      Q[2*i][1] = (Q[2*i][0] - Q[2*i-1][0]) / (z[2*i] - z[2*i-1])\n",
        "\n",
        "  for j in range(2, 2*n):\n",
        "    for i in range(j, 2*n):\n",
        "      Q[i][j] = (Q[i][j-1] - Q[i-1][j-1]) / (z[i] - z[i-j])\n",
        "\n",
        "  headers = [\"z\"] + [f\"Q[{j}]\"for j in range(2*n)]\n",
        "  table = [[f\"{z[i]:.4f}\"] + [f\"{Q[i][j]:.9f}\" if j <= i else \"\" for j in range(2*n)]for i in range(2*n)]\n",
        "  print(tabulate(table, headers=headers, tablefmt=\"grid\"))\n",
        "\n",
        "  x = sp.Symbol('x')\n",
        "  H = Q[0][0]\n",
        "  prod = 1\n",
        "  for i in range(1, 2*n):\n",
        "    prod *= (x - z[i-1])\n",
        "    H += Q[i][i] * prod\n",
        "  return sp.simplify(H)"
      ],
      "metadata": {
        "id": "fYO_Q4OI8Tds"
      },
      "execution_count": null,
      "outputs": []
    },
    {
      "cell_type": "markdown",
      "source": [
        "Imprimimos nuestra tabla y el polinomio correspondiente"
      ],
      "metadata": {
        "id": "7OdmnjjotM7X"
      }
    },
    {
      "cell_type": "code",
      "source": [
        "polinomio_hermite = interpolacion_hermite(x_valores,f_valores,f_derivada)\n",
        "print(\"\\nPolinomio de Hermite simplificado: \")\n",
        "sp.pprint(polinomio_hermite, use_unicode=True)"
      ],
      "metadata": {
        "colab": {
          "base_uri": "https://localhost:8080/"
        },
        "id": "4VuvxGSdALkL",
        "outputId": "e5afa54b-aef3-475d-9941-56138a9437c8"
      },
      "execution_count": null,
      "outputs": [
        {
          "output_type": "stream",
          "name": "stdout",
          "text": [
            "+-----+----------+--------------+--------------+-------------+-------------+--------------+\n",
            "|   z |     Q[0] | Q[1]         | Q[2]         | Q[3]        | Q[4]        | Q[5]         |\n",
            "+=====+==========+==============+==============+=============+=============+==============+\n",
            "| 1.3 | 0.620086 |              |              |             |             |              |\n",
            "+-----+----------+--------------+--------------+-------------+-------------+--------------+\n",
            "| 1.3 | 0.620086 | -0.522023200 |              |             |             |              |\n",
            "+-----+----------+--------------+--------------+-------------+-------------+--------------+\n",
            "| 1.6 | 0.455402 | -0.548946000 | -0.089742667 |             |             |              |\n",
            "+-----+----------+--------------+--------------+-------------+-------------+--------------+\n",
            "| 1.6 | 0.455402 | -0.569895900 | -0.069833000 | 0.066365556 |             |              |\n",
            "+-----+----------+--------------+--------------+-------------+-------------+--------------+\n",
            "| 1.9 | 0.281819 | -0.578612000 | -0.029053667 | 0.067965556 | 0.002666667 |              |\n",
            "+-----+----------+--------------+--------------+-------------+-------------+--------------+\n",
            "| 1.9 | 0.281819 | -0.581157100 | -0.008483667 | 0.068566667 | 0.001001852 | -0.002774691 |\n",
            "+-----+----------+--------------+--------------+-------------+-------------+--------------+\n",
            "\n",
            "Polinomio de Hermite simplificado: \n",
            "                       5                       4                       3       ↪\n",
            "- 0.00277469135798944⋅x  + 0.0240317901231809⋅x  - 0.0145560802460553⋅x  - 0.2 ↪\n",
            "\n",
            "↪                 2                                           \n",
            "↪ 35216169754413⋅x  - 0.00822922345577154⋅x + 1.00194406469105\n"
          ]
        }
      ]
    }
  ]
}