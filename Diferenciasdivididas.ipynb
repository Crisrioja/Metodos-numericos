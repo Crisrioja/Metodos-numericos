{
  "nbformat": 4,
  "nbformat_minor": 0,
  "metadata": {
    "colab": {
      "provenance": [],
      "authorship_tag": "ABX9TyPGJ4oq6brUn54LTHJk3IFN",
      "include_colab_link": true
    },
    "kernelspec": {
      "name": "python3",
      "display_name": "Python 3"
    },
    "language_info": {
      "name": "python"
    }
  },
  "cells": [
    {
      "cell_type": "markdown",
      "metadata": {
        "id": "view-in-github",
        "colab_type": "text"
      },
      "source": [
        "<a href=\"https://colab.research.google.com/github/Crisrioja/Metodos-numericos/blob/main/Diferenciasdivididas.ipynb\" target=\"_parent\"><img src=\"https://colab.research.google.com/assets/colab-badge.svg\" alt=\"Open In Colab\"/></a>"
      ]
    },
    {
      "cell_type": "markdown",
      "source": [
        "# <font color=blue>Metodo de Diferencias Divididas"
      ],
      "metadata": {
        "id": "l1l3TFPdLtBe"
      }
    },
    {
      "cell_type": "markdown",
      "source": [
        "El metodo cosiste en lo siguiente:\n",
        "\n",
        "La diferenicia dividida cero de f respecto a $x_i$ es\n",
        "\n",
        "$f[x_i] = f(x_i)$\n",
        "\n",
        "La primiera diferencia dividida de f respecto a $x_i$ y $x_{i+1}$ es:\n",
        "\n",
        "$f[x_i,x_{i+1}] = (f(x_{i+1})-f(x_i)) /(x_{i+1} - x_i)$\n",
        "\n",
        "Así la K-ésima diferencia dividida se expresa de la forma:\n",
        "\n",
        "$f[x_i,x_{i+1},...,x_{i+k-1},x_{i+k}] = $\n",
        "\n",
        "$(f[x_{i+1},x_{i+2},...,x_{i+k}]-f[x_i,x_{i+1},...,x_{i+k}])/(x_{i+k} - x_i)$\n",
        "\n",
        "Con esta notacion la formula para calcular el polinomio de Lagrange $P_n(x)$ de la siguente forma\n",
        "\n",
        "$P_n(x) = f[x_0] + \\sum_{k=1}^{n} f[x_0,x_1,...,x_k](x-x_0)...(x-x_{k-1})$\n"
      ],
      "metadata": {
        "id": "KUEN7y10L0HK"
      }
    },
    {
      "cell_type": "code",
      "execution_count": 5,
      "metadata": {
        "id": "0HCPwOia9yfA"
      },
      "outputs": [],
      "source": [
        "import sympy as sp\n",
        "from tabulate import tabulate"
      ]
    },
    {
      "cell_type": "markdown",
      "source": [
        "Creamos nuestra funcion que calcula nuestra tabla de diferencias divididas y crea nuestro polinomio de Lagrange $P_n(x)$"
      ],
      "metadata": {
        "id": "xjzc5UsNPisT"
      }
    },
    {
      "cell_type": "code",
      "source": [
        "def diferencias_divididas(valoresx, valoresy):\n",
        "    n = len(valoresx)\n",
        "    x = sp.Symbol('x')\n",
        "\n",
        "    # Construcción de la tabla de diferencias divididas\n",
        "    coef = [y for y in valoresy]  # primera columna\n",
        "    tabla = [[y] for y in valoresy]\n",
        "\n",
        "    for j in range(1, n):\n",
        "        nueva_col = []\n",
        "        for i in range(n - j):\n",
        "            div = (coef[i + 1] - coef[i]) / (valoresx[i + j] - valoresx[i])\n",
        "            nueva_col.append(div)\n",
        "        coef = nueva_col\n",
        "        for i in range(len(nueva_col)):\n",
        "            tabla[i].append(nueva_col[i])\n",
        "\n",
        "    # Construcción del polinomio\n",
        "    polinomio = valoresy[0]\n",
        "    term = 1\n",
        "    for i in range(1, n):\n",
        "        term *= (x - valoresx[i - 1])\n",
        "        polinomio += tabla[0][i] * term\n",
        "\n",
        "    # Mostrar la tabla\n",
        "    headers = [\"f[x]\"] + [f\"Δ^{i}f\" for i in range(1, n)]\n",
        "    table_data = [[f\"{valoresx[i]:.2f}\"] + [f\"{tabla[i][j]:.6f}\" if j < len(tabla[i]) else \"\" for j in range(n)] for i in range(n)]\n",
        "    print(tabulate(table_data, headers=[\"x\"] + headers, tablefmt=\"fancy_grid\"))\n",
        "\n",
        "    return sp.simplify(polinomio)\n"
      ],
      "metadata": {
        "id": "UlEC86-z-_jq"
      },
      "execution_count": 9,
      "outputs": []
    },
    {
      "cell_type": "markdown",
      "source": [
        "<big>Declaramos valores para x y para f(x), e imprimimmos la tabla correspondiente"
      ],
      "metadata": {
        "id": "vyk9eaTgLZwv"
      }
    },
    {
      "cell_type": "code",
      "source": [
        "\n",
        "valoresx = [1.0, 1.3, 1.6, 1.9, 2.2 ]\n",
        "valoresy = [0.7651977,0.6200860, 0.4554022, 0.2818186, 0.1103623]\n",
        "\n",
        "pol = diferencias_divididas(valoresx, valoresy)\n",
        "print(\"\\nPolinomio de interpolación de Newton:\")\n",
        "sp.pprint(pol, use_unicode=True)"
      ],
      "metadata": {
        "colab": {
          "base_uri": "https://localhost:8080/"
        },
        "id": "ygiZ08GKLQ5K",
        "outputId": "2adecb83-e136-4448-94f3-3795c092fa28"
      },
      "execution_count": 10,
      "outputs": [
        {
          "output_type": "stream",
          "name": "stdout",
          "text": [
            "╒═════╤══════════╤═══════════╤═══════════╤══════════╤══════════╕\n",
            "│   x │     f[x] │ Δ^1f      │ Δ^2f      │ Δ^3f     │ Δ^4f     │\n",
            "╞═════╪══════════╪═══════════╪═══════════╪══════════╪══════════╡\n",
            "│ 1   │ 0.765198 │ -0.483706 │ -0.108734 │ 0.065878 │ 0.001825 │\n",
            "├─────┼──────────┼───────────┼───────────┼──────────┼──────────┤\n",
            "│ 1.3 │ 0.620086 │ -0.548946 │ -0.049443 │ 0.068069 │          │\n",
            "├─────┼──────────┼───────────┼───────────┼──────────┼──────────┤\n",
            "│ 1.6 │ 0.455402 │ -0.578612 │ 0.011818  │          │          │\n",
            "├─────┼──────────┼───────────┼───────────┼──────────┼──────────┤\n",
            "│ 1.9 │ 0.281819 │ -0.571521 │           │          │          │\n",
            "├─────┼──────────┼───────────┼───────────┼──────────┼──────────┤\n",
            "│ 2.2 │ 0.110362 │           │           │          │          │\n",
            "╘═════╧══════════╧═══════════╧═══════════╧══════════╧══════════╛\n",
            "\n",
            "Polinomio de interpolación de Newton:\n",
            "                     4                       3                      2          ↪\n",
            "0.00182510288066044⋅x  + 0.0552927983538978⋅x  - 0.343046604938247⋅x  + 0.0733 ↪\n",
            "\n",
            "↪                                   \n",
            "↪ 913477366034⋅x + 0.977735055967085\n"
          ]
        }
      ]
    },
    {
      "cell_type": "markdown",
      "source": [
        "<big> Si bien el polinomio se ve de esa forma, todos los calculos de la tabla coinciden con los obtenidos en clase\n"
      ],
      "metadata": {
        "id": "LbdShTVxI402"
      }
    }
  ]
}