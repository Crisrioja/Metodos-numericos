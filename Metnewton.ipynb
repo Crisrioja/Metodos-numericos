{
  "nbformat": 4,
  "nbformat_minor": 0,
  "metadata": {
    "colab": {
      "provenance": [],
      "authorship_tag": "ABX9TyOhZyPiRTWEFT0zmxp28tCR",
      "include_colab_link": true
    },
    "kernelspec": {
      "name": "python3",
      "display_name": "Python 3"
    },
    "language_info": {
      "name": "python"
    }
  },
  "cells": [
    {
      "cell_type": "markdown",
      "metadata": {
        "id": "view-in-github",
        "colab_type": "text"
      },
      "source": [
        "<a href=\"https://colab.research.google.com/github/Crisrioja/Metodos-numericos/blob/main/Metnewton.ipynb\" target=\"_parent\"><img src=\"https://colab.research.google.com/assets/colab-badge.svg\" alt=\"Open In Colab\"/></a>"
      ]
    },
    {
      "cell_type": "markdown",
      "source": [
        "# <font color=blue>Metodo de Newton</font>"
      ],
      "metadata": {
        "id": "KujLoADudVLp"
      }
    },
    {
      "cell_type": "markdown",
      "source": [
        "<big><font>Este metodo se basa en la iteracion:  </font>\n",
        "$P_{i+1} = P_1 - f(P_i)/f'(P_i)$\n",
        "Usaremos la funcion $f(x) = cos(x) -x$\n",
        "Y su derivada $f'(x) = -sen(x) -1$ como ejemplo"
      ],
      "metadata": {
        "id": "nVx8tKOHfFgp"
      }
    },
    {
      "cell_type": "code",
      "execution_count": 1,
      "metadata": {
        "id": "_RC_XK6EbnSH"
      },
      "outputs": [],
      "source": [
        "import numpy as np\n",
        "from tabulate import tabulate\n"
      ]
    },
    {
      "cell_type": "markdown",
      "source": [
        "Definimos la funcion $f(x) = cos(x) - x$"
      ],
      "metadata": {
        "id": "Vqa4kdsJlBLq"
      }
    },
    {
      "cell_type": "markdown",
      "source": [
        "Definimos la derivada $f'(x)= -sen(x) -1$"
      ],
      "metadata": {
        "id": "BmPGQA3zlOtZ"
      }
    },
    {
      "cell_type": "code",
      "source": [
        "def f(x):\n",
        "  return np.cos(x)-x\n",
        "\n",
        "def df(x):\n",
        "  return -np.sin(x)-1\n"
      ],
      "metadata": {
        "id": "3GvHmYYwkR0K"
      },
      "execution_count": 2,
      "outputs": []
    },
    {
      "cell_type": "markdown",
      "source": [
        "Definimos nuestro metodo de Newton"
      ],
      "metadata": {
        "id": "e4s2kIqBlj45"
      }
    },
    {
      "cell_type": "code",
      "source": [
        "def metodo_newton(f, df, p0, tol=1e-5,max_iter=10):\n",
        "  iter_datos = []\n",
        "  for i in range(1,max_iter + 1):\n",
        "    p = p0 - f(p0)/df(p0) #Se aplica la formula del metodo\n",
        "    error = abs(p-p0)  #Se calcula el error absoluto\n",
        "\n",
        "    iter_datos.append([i,p0,p,error]) #Se guardan los datos de la iteracion\n",
        "    if error < tol:   #Nuestro criterio de convergencia como nuestra tolerancia\n",
        "      break\n",
        "    p0=p  # Se actualiza p0 para la siguiente iteracion\n",
        "\n",
        "  print(tabulate(iter_datos, headers=[\"iteracion\",\"p_n\", \"p_n+1\", \"error\"], tablefmt=\"grid\")) #Se imprime la tabla de iteraciones\n",
        "  print(f\"\\nAproximacion final: {p:f} con una tolerancia de {tol}\")\n"
      ],
      "metadata": {
        "id": "vK02lJKSkgKC"
      },
      "execution_count": 14,
      "outputs": []
    },
    {
      "cell_type": "code",
      "source": [
        "#Damos nuestros parametros iniciales\n",
        "p0 = 0\n",
        "tol = 1e-5\n",
        "#Ejecuatamos el metodo de newton\n",
        "metodo_newton(f,df,p0,tol)"
      ],
      "metadata": {
        "colab": {
          "base_uri": "https://localhost:8080/"
        },
        "id": "qzutBkiDkoOJ",
        "outputId": "fbf4a6e4-08b1-45ad-e644-37cfebdd0e99"
      },
      "execution_count": 15,
      "outputs": [
        {
          "output_type": "stream",
          "name": "stdout",
          "text": [
            "+-------------+----------+----------+-------------+\n",
            "|   iteracion |      p_n |    p_n+1 |       error |\n",
            "+=============+==========+==========+=============+\n",
            "|           1 | 0        | 1        | 1           |\n",
            "+-------------+----------+----------+-------------+\n",
            "|           2 | 1        | 0.750364 | 0.249636    |\n",
            "+-------------+----------+----------+-------------+\n",
            "|           3 | 0.750364 | 0.739113 | 0.011251    |\n",
            "+-------------+----------+----------+-------------+\n",
            "|           4 | 0.739113 | 0.739085 | 2.77575e-05 |\n",
            "+-------------+----------+----------+-------------+\n",
            "|           5 | 0.739085 | 0.739085 | 1.70123e-10 |\n",
            "+-------------+----------+----------+-------------+\n",
            "\n",
            "Aproximacion final: 0.739085 con una tolerancia de 1e-05\n"
          ]
        }
      ]
    }
  ]
}