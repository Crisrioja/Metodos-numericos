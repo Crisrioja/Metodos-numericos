{
  "nbformat": 4,
  "nbformat_minor": 0,
  "metadata": {
    "colab": {
      "provenance": [],
      "authorship_tag": "ABX9TyMaIdpBtP7GG0wYHE3F30sm",
      "include_colab_link": true
    },
    "kernelspec": {
      "name": "python3",
      "display_name": "Python 3"
    },
    "language_info": {
      "name": "python"
    }
  },
  "cells": [
    {
      "cell_type": "markdown",
      "metadata": {
        "id": "view-in-github",
        "colab_type": "text"
      },
      "source": [
        "<a href=\"https://colab.research.google.com/github/Crisrioja/Metodos-numericos/blob/main/Sistemasnumeriocos.ipynb\" target=\"_parent\"><img src=\"https://colab.research.google.com/assets/colab-badge.svg\" alt=\"Open In Colab\"/></a>"
      ]
    },
    {
      "cell_type": "code",
      "execution_count": null,
      "metadata": {
        "id": "fB7UQfipKCIq"
      },
      "outputs": [],
      "source": []
    },
    {
      "cell_type": "markdown",
      "source": [
        "# <font color=blue>Sistemas numericos</font>"
      ],
      "metadata": {
        "id": "IFP-7KybKDv8"
      }
    },
    {
      "cell_type": "code",
      "source": [
        "numero = 258\n",
        "\n",
        "bin(numero) #la funcion bin convierte automaticamente un numero decimal a binario\n",
        "oct(numero) #la funcion oct convierte automaticamente un numero decimal a octal\n",
        "hex(numero) #la funcion hex convierte automaticamente un numero decimal a hexadecimal\n",
        "\n",
        "print(numero,\"en sistema binario es \",bin(numero))\n",
        "print(numero,\"en sistema octal es \",oct(numero))\n",
        "print(numero,\"en sistema hexadecimal es \",hex(numero))"
      ],
      "metadata": {
        "colab": {
          "base_uri": "https://localhost:8080/"
        },
        "id": "qoEvd1o3KIAM",
        "outputId": "6368f43a-ba50-4ce1-88a6-c73300eefc3f"
      },
      "execution_count": 26,
      "outputs": [
        {
          "output_type": "stream",
          "name": "stdout",
          "text": [
            "258 en sistema binario es  0b100000010\n",
            "258 en sistema octal es  0o402\n",
            "258 en sistema hexadecimal es  0x102\n"
          ]
        }
      ]
    },
    {
      "cell_type": "code",
      "source": [
        "decimal = 258\n",
        "\n",
        "def decimalabinario(decimal): #la funcion decimalabinario convierte manualmente un numero decimal mayor a cero a binario usando strings y modulo 2\n",
        "  binario = \"\"\n",
        "  while decimal > 0:\n",
        "    residuo = decimal % 2\n",
        "    binario = str(residuo) + binario\n",
        "    decimal //= 2\n",
        "  return binario\n",
        "print(\"el numero decimal\",decimal,\" en binario es \",decimalabinario(decimal))"
      ],
      "metadata": {
        "colab": {
          "base_uri": "https://localhost:8080/"
        },
        "id": "0dyDGORyQmH4",
        "outputId": "4954f8fa-6ec1-4444-8d77-24aed1b1eae7"
      },
      "execution_count": 24,
      "outputs": [
        {
          "output_type": "stream",
          "name": "stdout",
          "text": [
            "el numero decimal 258  en binario es  100000010\n"
          ]
        }
      ]
    },
    {
      "cell_type": "code",
      "source": [],
      "metadata": {
        "id": "WWQzEAjARZFG"
      },
      "execution_count": null,
      "outputs": []
    },
    {
      "cell_type": "code",
      "source": [
        "decimal = 258\n",
        "\n",
        "def decimalaoctal(decimal): #la funcion decimalaoctal convierte manualmente un numero decimal mayor a cero a octal usando strings y modulo 8\n",
        "  octal = \"\"\n",
        "  while decimal > 0:\n",
        "    residuo = decimal % 8\n",
        "    octal = str(residuo) + octal\n",
        "    decimal //= 8\n",
        "  return octal\n",
        "print(\"el numero decimal\",decimal,\" en octal es \",decimalaoctal(decimal))"
      ],
      "metadata": {
        "colab": {
          "base_uri": "https://localhost:8080/"
        },
        "outputId": "cdee959a-e6ea-4a88-8b8d-5583d3fd41b5",
        "id": "EJkLN-UYX_Aq"
      },
      "execution_count": 27,
      "outputs": [
        {
          "output_type": "stream",
          "name": "stdout",
          "text": [
            "el numero decimal 258  en octal es  402\n"
          ]
        }
      ]
    }
  ]
}