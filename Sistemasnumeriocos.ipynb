{
  "nbformat": 4,
  "nbformat_minor": 0,
  "metadata": {
    "colab": {
      "provenance": [],
      "authorship_tag": "ABX9TyNAWkKnyj7Kro/Al/h/9q8y",
      "include_colab_link": true
    },
    "kernelspec": {
      "name": "python3",
      "display_name": "Python 3"
    },
    "language_info": {
      "name": "python"
    }
  },
  "cells": [
    {
      "cell_type": "markdown",
      "metadata": {
        "id": "view-in-github",
        "colab_type": "text"
      },
      "source": [
        "<a href=\"https://colab.research.google.com/github/Crisrioja/Metodos-numericos/blob/main/Sistemasnumeriocos.ipynb\" target=\"_parent\"><img src=\"https://colab.research.google.com/assets/colab-badge.svg\" alt=\"Open In Colab\"/></a>"
      ]
    },
    {
      "cell_type": "code",
      "execution_count": null,
      "metadata": {
        "id": "fB7UQfipKCIq"
      },
      "outputs": [],
      "source": []
    },
    {
      "cell_type": "markdown",
      "source": [
        "# <font color=blue>Sistemas numericos</font>"
      ],
      "metadata": {
        "id": "IFP-7KybKDv8"
      }
    },
    {
      "cell_type": "code",
      "source": [
        "numero = 258\n",
        "\n",
        "bin(numero) #la funcion bin convierte automaticamente un numero decimal a binario\n",
        "oct(numero) #la funcion oct convierte automaticamente un numero decimal a octal\n",
        "hex(numero) #la funcion hex convierte automaticamente un numero decimal a hexadecimal\n",
        "\n",
        "print(numero,\"en sistema binario es \",bin(numero))\n",
        "print(numero,\"en sistema octal es \",oct(numero))\n",
        "print(numero,\"en sistema hexadecimal es \",hex(numero))"
      ],
      "metadata": {
        "colab": {
          "base_uri": "https://localhost:8080/"
        },
        "id": "qoEvd1o3KIAM",
        "outputId": "fa75dd29-a05a-434c-de09-5d418ae57802"
      },
      "execution_count": null,
      "outputs": [
        {
          "output_type": "stream",
          "name": "stdout",
          "text": [
            "258 en sistema binario es  0b100000010\n",
            "258 en sistema octal es  0o402\n",
            "258 en sistema hexadecimal es  0x102\n"
          ]
        }
      ]
    },
    {
      "cell_type": "code",
      "source": [
        "decimal = 258\n",
        "def decimalabinario(decimal): #la funcion decimalabinario convierte manualmente un numero decimal mayor a cero a binario usando strings y modulo 2\n",
        "  binario = \"\"\n",
        "  while decimal > 0:\n",
        "    residuo = decimal % 2\n",
        "    binario = str(residuo) + binario\n",
        "    decimal //= 2\n",
        "  return binario\n",
        "print(\"el numero decimal\",decimal,\" en binario es \",decimalabinario(decimal))"
      ],
      "metadata": {
        "colab": {
          "base_uri": "https://localhost:8080/"
        },
        "id": "0dyDGORyQmH4",
        "outputId": "e8c6963f-797c-4152-a8b4-57fd0612c61f"
      },
      "execution_count": null,
      "outputs": [
        {
          "output_type": "stream",
          "name": "stdout",
          "text": [
            "el numero decimal 258  en binario es  100000010\n"
          ]
        }
      ]
    },
    {
      "cell_type": "code",
      "source": [
        "decimal = 258\n",
        "\n",
        "def decimalaoctal(decimal): #la funcion decimalaoctal convierte manualmente un numero decimal mayor a cero a octal usando strings y modulo 8\n",
        "  octal = \"\"\n",
        "  while decimal > 0:\n",
        "    residuo = decimal % 8\n",
        "    octal = str(residuo) + octal\n",
        "    decimal //= 8\n",
        "  return octal\n",
        "print(\"el numero decimal\",decimal,\" en octal es \",decimalaoctal(decimal))"
      ],
      "metadata": {
        "colab": {
          "base_uri": "https://localhost:8080/"
        },
        "outputId": "cdee959a-e6ea-4a88-8b8d-5583d3fd41b5",
        "id": "EJkLN-UYX_Aq"
      },
      "execution_count": null,
      "outputs": [
        {
          "output_type": "stream",
          "name": "stdout",
          "text": [
            "el numero decimal 258  en octal es  402\n"
          ]
        }
      ]
    },
    {
      "cell_type": "code",
      "source": [
        "def decimalfraccionarioabinario(decimal):\n",
        "    # Separar parte entera y fraccionaria\n",
        "    parte_entera = int(decimal)\n",
        "    parte_fraccionaria = decimal - parte_entera\n",
        "\n",
        "    # Convierte parte entera a binario\n",
        "    binario_entero = \"\"\n",
        "    if parte_entera == 0:\n",
        "        binario_entero = \"0\"\n",
        "    else:\n",
        "        while parte_entera > 0:\n",
        "            residuo = parte_entera % 2\n",
        "            binario_entero = str(residuo) + binario_entero\n",
        "            parte_entera //= 2\n",
        "\n",
        "    # Convierte parte fraccionaria a binario\n",
        "    binario_fraccion = \"\"\n",
        "    contador = 0  #Limita la cantidad de dígitos para evitar bucles infinitos\n",
        "    while parte_fraccionaria > 0 and contador < 10:  # Limita a 10 bits para evitar fracciones infinitas\n",
        "        parte_fraccionaria *= 2\n",
        "        bit = int(parte_fraccionaria)\n",
        "        if bit == 1:\n",
        "            parte_fraccionaria -= bit\n",
        "            binario_fraccion += \"1\"\n",
        "        else:\n",
        "            binario_fraccion += \"0\"\n",
        "        contador += 1\n",
        "\n",
        "    # Une parte entera y fraccionaria\n",
        "    if binario_fraccion:\n",
        "        return f\"{binario_entero}.{binario_fraccion}\"\n",
        "    else:\n",
        "        return binario_entero\n",
        "\n",
        "\n",
        "decimal = 11.432\n",
        "print(f\"el número decimal {decimal} en binario es {decimalfraccionarioabinario(decimal)}\")\n"
      ],
      "metadata": {
        "id": "RYoHJ_caeBg9",
        "colab": {
          "base_uri": "https://localhost:8080/"
        },
        "outputId": "a6e8cd4e-e755-4763-af25-2d148665dcc6"
      },
      "execution_count": 2,
      "outputs": [
        {
          "output_type": "stream",
          "name": "stdout",
          "text": [
            "el número decimal 11.432 en binario es 1011.0110111010\n"
          ]
        }
      ]
    }
  ]
}