{
  "nbformat": 4,
  "nbformat_minor": 0,
  "metadata": {
    "colab": {
      "provenance": [],
      "authorship_tag": "ABX9TyNmkEY2iBdsmTcalUjOjSmk",
      "include_colab_link": true
    },
    "kernelspec": {
      "name": "python3",
      "display_name": "Python 3"
    },
    "language_info": {
      "name": "python"
    }
  },
  "cells": [
    {
      "cell_type": "markdown",
      "metadata": {
        "id": "view-in-github",
        "colab_type": "text"
      },
      "source": [
        "<a href=\"https://colab.research.google.com/github/Crisrioja/Metodos-numericos/blob/main/Neville.ipynb\" target=\"_parent\"><img src=\"https://colab.research.google.com/assets/colab-badge.svg\" alt=\"Open In Colab\"/></a>"
      ]
    },
    {
      "cell_type": "markdown",
      "source": [
        "# <font color=blue>Metodo de interpolacion iterada de Neville</font>"
      ],
      "metadata": {
        "id": "Q2Ju9lmZul34"
      }
    },
    {
      "cell_type": "markdown",
      "source": [
        "<big> El metodo de neville cosiste en lo siguiente:\n",
        "El programa recibe de entrada numeros $x, x_0,x_1, ... ,x_n$; valores $f(x_0),f(x_1), ... , f(x_n)$ como la primera columna $Q_{0,0}, ... , Q_{n,0} de Q$\n",
        "Para $i = 1,2,...,n$\n",
        "para $j = 1,2,...,i$\n",
        "\n",
        "Ejecuta la formula\n",
        "\n",
        "$Q_{i,j} = ((x-x_{i-j})Q_{i,j-1}-(x-x_i)Q_{i-1,j-1})/(x_i - X_{i-j})$\n",
        "\n",
        "Imprime la tabla Q con $P(x) = Q_{n,n}$\n"
      ],
      "metadata": {
        "id": "K_pXtnxS4CWB"
      }
    },
    {
      "cell_type": "markdown",
      "source": [
        "<big> Importacion de librerias"
      ],
      "metadata": {
        "id": "M1wOvpua8Kl6"
      }
    },
    {
      "cell_type": "code",
      "execution_count": 6,
      "metadata": {
        "id": "VS7h2M8xsXgk"
      },
      "outputs": [],
      "source": [
        "import numpy as np\n",
        "from tabulate import tabulate"
      ]
    },
    {
      "cell_type": "markdown",
      "source": [
        "<big> Creamos nuestra funcion que utiliza la formula $Q_{i,j}$ para llevar a cabo el metodo de Neville"
      ],
      "metadata": {
        "id": "UP1G-2QV8Lks"
      }
    },
    {
      "cell_type": "code",
      "source": [
        "def neville(valoresx, valoresy, xevaluado):\n",
        "  n = len(valoresx)\n",
        "  Q = np.zeros((n,n))\n",
        "  for i in range(n):\n",
        "    Q[i][0] = valoresy[i]\n",
        "\n",
        "  for j in range(1,n):\n",
        "    for i in range(j,n):\n",
        "      xi = valoresx[i]\n",
        "      xij = valoresx[i-j]\n",
        "      Q[i][j] = ((xevaluado - xij) * Q[i][j-1] - (xevaluado - xi) * Q[i-1][j-1])/(xi - xij)\n",
        "\n",
        "  headers = [\"x_i\"] + [str(j) for j in range(n)]\n",
        "  table = [[f\"{valoresx[i]:.2f}\"] + [f\"{Q[i][j]:.6f}\" if j <= i else \"\" for j in range(n)] for i in range(n)]\n",
        "  print(tabulate(table, headers=headers, tablefmt=\"fancy_grid\"))\n",
        "  return Q[n-1][n-1]"
      ],
      "metadata": {
        "id": "2imKOAuT71wU"
      },
      "execution_count": 9,
      "outputs": []
    },
    {
      "cell_type": "markdown",
      "source": [
        "<big>Declaramos los valores para $x,y$  (f(X)) y el valor a buscar, e imprimimos la tabla correspondiente"
      ],
      "metadata": {
        "id": "DhZvUN3X8b2q"
      }
    },
    {
      "cell_type": "code",
      "source": [
        "\n",
        "valoresx = [1.0, 1.3, 1.6, 1.9, 2.2 ]\n",
        "valoresy = [0.7651977,0.6200860, 0.4554022, 0.2818186, 0.1103623]\n",
        "xevaluado = 1.5\n",
        "\n",
        "print(f\"interpolacion en x = {xevaluado}:\")\n",
        "aproximacion = neville(valoresx, valoresy, xevaluado)\n",
        "print(f\"Aproximacion: {aproximacion:.6f}\")"
      ],
      "metadata": {
        "colab": {
          "base_uri": "https://localhost:8080/"
        },
        "id": "LuvwFo4O76rh",
        "outputId": "5a61218d-1579-4a60-8e3e-02b09f41226c"
      },
      "execution_count": 10,
      "outputs": [
        {
          "output_type": "stream",
          "name": "stdout",
          "text": [
            "interpolacion en x = 1.5:\n",
            "╒═══════╤══════════╤══════════╤══════════╤══════════╤══════════╕\n",
            "│   x_i │        0 │ 1        │ 2        │ 3        │ 4        │\n",
            "╞═══════╪══════════╪══════════╪══════════╪══════════╪══════════╡\n",
            "│   1   │ 0.765198 │          │          │          │          │\n",
            "├───────┼──────────┼──────────┼──────────┼──────────┼──────────┤\n",
            "│   1.3 │ 0.620086 │ 0.523345 │          │          │          │\n",
            "├───────┼──────────┼──────────┼──────────┼──────────┼──────────┤\n",
            "│   1.6 │ 0.455402 │ 0.510297 │ 0.512471 │          │          │\n",
            "├───────┼──────────┼──────────┼──────────┼──────────┼──────────┤\n",
            "│   1.9 │ 0.281819 │ 0.513263 │ 0.511286 │ 0.511813 │          │\n",
            "├───────┼──────────┼──────────┼──────────┼──────────┼──────────┤\n",
            "│   2.2 │ 0.110362 │ 0.510427 │ 0.513736 │ 0.511830 │ 0.511820 │\n",
            "╘═══════╧══════════╧══════════╧══════════╧══════════╧══════════╛\n",
            "Aproximacion: 0.511820\n"
          ]
        }
      ]
    }
  ]
}