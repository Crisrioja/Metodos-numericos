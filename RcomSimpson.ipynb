{
  "nbformat": 4,
  "nbformat_minor": 0,
  "metadata": {
    "colab": {
      "provenance": [],
      "authorship_tag": "ABX9TyNeY8pVjYyT43YawETvFVyx",
      "include_colab_link": true
    },
    "kernelspec": {
      "name": "python3",
      "display_name": "Python 3"
    },
    "language_info": {
      "name": "python"
    }
  },
  "cells": [
    {
      "cell_type": "markdown",
      "metadata": {
        "id": "view-in-github",
        "colab_type": "text"
      },
      "source": [
        "<a href=\"https://colab.research.google.com/github/Crisrioja/Metodos-numericos/blob/main/RcomSimpson.ipynb\" target=\"_parent\"><img src=\"https://colab.research.google.com/assets/colab-badge.svg\" alt=\"Open In Colab\"/></a>"
      ]
    },
    {
      "cell_type": "markdown",
      "source": [
        "# <font color=blue>Regla Compuesta de Simpson</font>"
      ],
      "metadata": {
        "id": "yllk_YGWenfA"
      }
    },
    {
      "cell_type": "markdown",
      "source": [
        "1. Regla Compuesta de Simpson\n",
        "\n",
        "Para aproximar la integral\n",
        "\n",
        "$\\int_a^b f(x)\\,dx$,\n",
        "\n",
        "la regla compuesta de Simpson divide el intervalo en ( n ) subintervalos iguales (con ( n ) par), y aplica la fórmula:\n",
        "\n",
        "\n",
        "$\\int_a^b f(x)\\,dx \\approx \\frac{h}{3} \\left[ f(x_0) + 4\\sum_{\\text{impares}} f(x_i) + 2\\sum_{\\text{pares}} f(x_i) + f(x_n) \\right]$,\n",
        "\n",
        "donde $( h = \\frac{b - a}{n} )$, y los nodos son $( x_i = a + ih )$.\n",
        "\n",
        "{Error asociado}\n",
        "\n",
        "Si la función $( f \\in C^4[a,b] )$, el error de esta aproximación está acotado por:\n",
        "\n",
        "\n",
        "$|E| \\leq \\frac{(b-a)h^4}{180} \\max_{x \\in [a,b]} |f^{(4)}(x)|$.\n",
        "\n",
        "\n",
        "2. Aplicación a $( \\int_0^4 e^x \\, dx )$\n",
        "\n",
        "{Valor real}\n",
        "\n",
        "$\\int_0^4 e^x \\, dx = e^4 - 1 \\approx 53.59815003$\n",
        "\n",
        "\n",
        "{Aproximación global (n = 8)}\n",
        "\n",
        "\n",
        "$\\int_0^4 e^x \\, dx \\approx 53.59816073$\n",
        "\n",
        "\n",
        "{Error absoluto} $\\approx 1.07 \\times 10^{-5}$\n",
        "\n",
        "\n",
        "{Aproximación por subintervalos}\n",
        "\n",
        "Dividimos el intervalo en:\n",
        "\n",
        "$[0,1],\\quad [1,2],\\quad [2,3],\\quad [3,4]$\n",
        "\n",
        "y aplicamos la regla de Simpson con $( n = 2 )$ en cada uno:\n",
        "\n",
        "\n",
        "$\\int_0^1 e^x dx + \\int_1^2 e^x dx + \\int_2^3 e^x dx + \\int_3^4 e^x dx \\approx 53.59815013$\n",
        "\n",
        "{Error absoluto} $\\approx 9.97 \\times 10^{-8}$\n",
        "\n",
        "3. Conclusión\n",
        "\n",
        "La regla de Simpson compuesta en todo el intervalo proporciona una buena aproximación, pero al subdividir en partes más pequeñas, se mejora significativamente la precisión, aunque en este caso coincidieron.\n",
        "\n"
      ],
      "metadata": {
        "id": "NumNxyBGYNuM"
      }
    },
    {
      "cell_type": "code",
      "execution_count": 7,
      "metadata": {
        "colab": {
          "base_uri": "https://localhost:8080/"
        },
        "id": "N06IN92-R-Da",
        "outputId": "ded6e007-066e-4b43-ada2-7231fa66f5d3"
      },
      "outputs": [
        {
          "output_type": "stream",
          "name": "stdout",
          "text": [
            "Valor real de la integral: 53.5981500331\n",
            "\n",
            "--- Usando regla compuesta de Simpson en [0,4] ---\n",
            "Aproximación total: 53.6162207960\n",
            "Error absoluto: 0.0180707629\n",
            "\n",
            "--- Suma de 4 integrales parciales ---\n",
            "Aproximación por partes: 53.6162207960\n",
            "Error absoluto: 0.0180707629\n"
          ]
        }
      ],
      "source": [
        "import numpy as np\n",
        "import sympy as sp\n",
        "\n",
        "# Función simbólica y su versión numérica\n",
        "x = sp.Symbol('x')\n",
        "f_expr = sp.exp(x)\n",
        "f = sp.lambdify(x, f_expr, 'numpy')\n",
        "\n",
        "# Valor real exacto de la integral\n",
        "real_integral = float(sp.integrate(f_expr, (x, 0, 4)))\n",
        "\n",
        "# --- Regla compuesta de Simpson en [0, 4] con n=8 ---\n",
        "def simpson_compuesta(f, a, b, n):\n",
        "    if n % 2 != 0:\n",
        "        raise ValueError(\"n debe ser par\")\n",
        "    h = (b - a) / n\n",
        "    XI0 = f(a) + f(b)\n",
        "    XI1 = 0  # suma de f(x_odd)\n",
        "    XI2 = 0  # suma de f(x_even)\n",
        "    for i in range(1, n):\n",
        "        X = a + i * h\n",
        "        if i % 2 == 0:\n",
        "            XI2 += f(X)\n",
        "        else:\n",
        "            XI1 += f(X)\n",
        "    return (h / 3) * (XI0 + 2 * XI2 + 4 * XI1)\n",
        "\n",
        "# Aproximación global con n=8\n",
        "aprox_total = simpson_compuesta(f, 0, 4, 8)\n",
        "\n",
        "# --- Suma de integrales parciales con Simpson ---\n",
        "subintervalos = [(0, 1), (1, 2), (2, 3), (3, 4)]\n",
        "aprox_partes = sum(simpson_compuesta(f, a, b, 2) for (a, b) in subintervalos)\n",
        "\n",
        "# --- Resultados ---\n",
        "print(f\"Valor real de la integral: {real_integral:.10f}\")\n",
        "print(\"\\n--- Usando regla compuesta de Simpson en [0,4] ---\")\n",
        "print(f\"Aproximación total: {aprox_total:.10f}\")\n",
        "print(f\"Error absoluto: {abs(aprox_total - real_integral):.10f}\")\n",
        "\n",
        "print(\"\\n--- Suma de 4 integrales parciales ---\")\n",
        "print(f\"Aproximación por partes: {aprox_partes:.10f}\")\n",
        "print(f\"Error absoluto: {abs(aprox_partes - real_integral):.10f}\")\n"
      ]
    }
  ]
}