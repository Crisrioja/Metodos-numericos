{
  "nbformat": 4,
  "nbformat_minor": 0,
  "metadata": {
    "colab": {
      "provenance": [],
      "authorship_tag": "ABX9TyNHsueOBK8SwYjqsitC4ZH5",
      "include_colab_link": true
    },
    "kernelspec": {
      "name": "python3",
      "display_name": "Python 3"
    },
    "language_info": {
      "name": "python"
    }
  },
  "cells": [
    {
      "cell_type": "markdown",
      "metadata": {
        "id": "view-in-github",
        "colab_type": "text"
      },
      "source": [
        "<a href=\"https://colab.research.google.com/github/Crisrioja/Metodos-numericos/blob/main/Posfalsa.ipynb\" target=\"_parent\"><img src=\"https://colab.research.google.com/assets/colab-badge.svg\" alt=\"Open In Colab\"/></a>"
      ]
    },
    {
      "cell_type": "code",
      "execution_count": 1,
      "metadata": {
        "colab": {
          "base_uri": "https://localhost:8080/"
        },
        "id": "l4bzUk3KBYSt",
        "outputId": "e677d744-b107-45d3-f041-9d469f1d1998"
      },
      "outputs": [
        {
          "output_type": "stream",
          "name": "stdout",
          "text": [
            "Método de la Posición Falsa para la ecuación x = cos(x) en [0,1]:\n",
            "\n",
            "+--------+------------+------------+------------+-------------+------------+\n",
            "|   Iter |          a |          b |          p |        f(p) |      Error |\n",
            "+========+============+============+============+=============+============+\n",
            "|      1 | 0.00000000 | 1.00000000 | 0.68507336 | -0.08929928 | 1.00000000 |\n",
            "+--------+------------+------------+------------+-------------+------------+\n",
            "|      2 | 0.68507336 | 1.00000000 | 0.73629900 | -0.00466004 | 0.05122564 |\n",
            "+--------+------------+------------+------------+-------------+------------+\n",
            "|      3 | 0.73629900 | 1.00000000 | 0.73894536 | -0.00023393 | 0.00264636 |\n",
            "+--------+------------+------------+------------+-------------+------------+\n",
            "|      4 | 0.73894536 | 1.00000000 | 0.73907813 | -0.00001172 | 0.00013277 |\n",
            "+--------+------------+------------+------------+-------------+------------+\n",
            "|      5 | 0.73907813 | 1.00000000 | 0.73908478 | -0.00000059 | 0.00000665 |\n",
            "+--------+------------+------------+------------+-------------+------------+\n",
            "\n",
            "Aproximación de la raíz: x ≈ 0.73908478\n"
          ]
        }
      ],
      "source": [
        "import math\n",
        "from tabulate import tabulate\n",
        "\n",
        "def f(x):\n",
        "    \"\"\"\n",
        "    Función para la ecuación x = cos(x),\n",
        "    reescrita como f(x) = x - cos(x) = 0\n",
        "    \"\"\"\n",
        "    return x - math.cos(x)\n",
        "\n",
        "def false_position(f, a, b, tol=1e-6, max_iter=50):\n",
        "    \"\"\"\n",
        "    Implementa el método de la posición falsa\n",
        "\n",
        "    Parámetros:\n",
        "      f        : función para la cual se busca la raíz (f(x)=0).\n",
        "      a, b     : extremos del intervalo inicial [a, b] con f(a)*f(b) < 0.\n",
        "      tol      : tolerancia para el error deseado (usaremos por defecto 1e-6).\n",
        "      max_iter : número máximo de iteraciones permitidas.\n",
        "\n",
        "    Retorna:\n",
        "      p        : aproximación a la raíz.\n",
        "\n",
        "    Imprime:\n",
        "      - Una tabla con la iteración, a, b, p, f(p) y el error |p - p_anterior|.\n",
        "    \"\"\"\n",
        "    fa = f(a)\n",
        "    fb = f(b)\n",
        "\n",
        "    # Verificar que haya cambio de signo\n",
        "    if fa * fb > 0:\n",
        "        raise ValueError(\"f(a) y f(b) deben tener signos opuestos para aplicar la posición falsa.\")\n",
        "\n",
        "    tabla = []\n",
        "    p_anterior = None\n",
        "\n",
        "    for i in range(1, max_iter+1):\n",
        "        # Fórmula de la posición falsa\n",
        "        p = b - fb * (b - a) / (fb - fa)\n",
        "        fp = f(p)\n",
        "\n",
        "        # Calcular el error como la distancia entre la aproximación actual y la anterior\n",
        "        if p_anterior is None:\n",
        "            error = abs(b - a)  # En la 1ra iteración podemos tomar el ancho del intervalo como \"error\"\n",
        "        else:\n",
        "            error = abs(p - p_anterior)\n",
        "\n",
        "        # Guardar en la tabla\n",
        "        tabla.append([i, a, b, p, fp, error])\n",
        "\n",
        "        # Verificar criterio de parada\n",
        "        if error < tol or abs(fp) < tol:\n",
        "            break\n",
        "\n",
        "        # Actualizar extremos según el signo\n",
        "        if fa * fp < 0:\n",
        "            # La raíz está entre a y p\n",
        "            b = p\n",
        "            fb = fp\n",
        "        else:\n",
        "            # La raíz está entre p y b\n",
        "            a = p\n",
        "            fa = fp\n",
        "\n",
        "        p_anterior = p\n",
        "\n",
        "    # Imprimir tabla\n",
        "    print(tabulate(tabla, headers=[\"Iter\", \"a\", \"b\", \"p\", \"f(p)\", \"Error\"],\n",
        "                   floatfmt=\".8f\", tablefmt=\"grid\"))\n",
        "\n",
        "    return p\n",
        "\n",
        "# Ejemplo de uso con el intervalo [0,1] para x = cos(x)\n",
        "a_inicial = 0.0\n",
        "b_inicial = 1.0\n",
        "tolerancia = 1e-6\n",
        "\n",
        "print(\"Método de la Posición Falsa para la ecuación x = cos(x) en [0,1]:\\n\")\n",
        "raiz = false_position(f, a_inicial, b_inicial, tol=tolerancia)\n",
        "print(f\"\\nAproximación de la raíz: x ≈ {raiz:.8f}\")\n"
      ]
    }
  ]
}